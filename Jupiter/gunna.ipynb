{
 "cells": [
  {
   "cell_type": "code",
   "execution_count": 1,
   "metadata": {},
   "outputs": [
    {
     "name": "stderr",
     "output_type": "stream",
     "text": [
      "Using TensorFlow backend.\n"
     ]
    }
   ],
   "source": [
    "import numpy as np\n",
    "import pandas as pd\n",
    "from keras.models import Sequential\n",
    "from keras.layers import Dense\n",
    "from sklearn import metrics\n",
    "from sklearn.model_selection import cross_val_score\n",
    "from sklearn.model_selection import KFold\n",
    "import tensorflow as tf\n",
    "from keras.models import Sequential, load_model\n",
    "import time\n",
    "import matplotlib.pyplot as plt"
   ]
  },
  {
   "cell_type": "code",
   "execution_count": 2,
   "metadata": {},
   "outputs": [],
   "source": [
    "from numpy.random import seed\n",
    "seed(1)\n",
    "tf.random.set_seed(1)\n",
    "seed = 1\n",
    "np.random.seed(seed)"
   ]
  },
  {
   "cell_type": "code",
   "execution_count": 3,
   "metadata": {},
   "outputs": [
    {
     "data": {
      "text/html": [
       "<div>\n",
       "<style scoped>\n",
       "    .dataframe tbody tr th:only-of-type {\n",
       "        vertical-align: middle;\n",
       "    }\n",
       "\n",
       "    .dataframe tbody tr th {\n",
       "        vertical-align: top;\n",
       "    }\n",
       "\n",
       "    .dataframe thead th {\n",
       "        text-align: right;\n",
       "    }\n",
       "</style>\n",
       "<table border=\"1\" class=\"dataframe\">\n",
       "  <thead>\n",
       "    <tr style=\"text-align: right;\">\n",
       "      <th></th>\n",
       "      <th>Divisoinal Secretary Area</th>\n",
       "      <th>lat</th>\n",
       "      <th>lon</th>\n",
       "      <th>year</th>\n",
       "      <th>DOY</th>\n",
       "      <th>Rainfalls</th>\n",
       "      <th>Humidity</th>\n",
       "      <th>Temparature</th>\n",
       "      <th>Harvest</th>\n",
       "    </tr>\n",
       "  </thead>\n",
       "  <tbody>\n",
       "    <tr>\n",
       "      <th>0</th>\n",
       "      <td>01. Ampara</td>\n",
       "      <td>7.29191</td>\n",
       "      <td>81.67841</td>\n",
       "      <td>2019</td>\n",
       "      <td>91</td>\n",
       "      <td>0.39</td>\n",
       "      <td>69.43</td>\n",
       "      <td>29.18</td>\n",
       "      <td>10770.38</td>\n",
       "    </tr>\n",
       "    <tr>\n",
       "      <th>1</th>\n",
       "      <td>NaN</td>\n",
       "      <td>7.29191</td>\n",
       "      <td>81.67841</td>\n",
       "      <td>2019</td>\n",
       "      <td>92</td>\n",
       "      <td>0.23</td>\n",
       "      <td>71.53</td>\n",
       "      <td>28.71</td>\n",
       "      <td>10770.38</td>\n",
       "    </tr>\n",
       "    <tr>\n",
       "      <th>2</th>\n",
       "      <td>NaN</td>\n",
       "      <td>7.29191</td>\n",
       "      <td>81.67841</td>\n",
       "      <td>2019</td>\n",
       "      <td>93</td>\n",
       "      <td>0.08</td>\n",
       "      <td>68.92</td>\n",
       "      <td>28.48</td>\n",
       "      <td>10770.38</td>\n",
       "    </tr>\n",
       "    <tr>\n",
       "      <th>3</th>\n",
       "      <td>NaN</td>\n",
       "      <td>7.29191</td>\n",
       "      <td>81.67841</td>\n",
       "      <td>2019</td>\n",
       "      <td>94</td>\n",
       "      <td>0.01</td>\n",
       "      <td>61.05</td>\n",
       "      <td>28.57</td>\n",
       "      <td>10770.38</td>\n",
       "    </tr>\n",
       "    <tr>\n",
       "      <th>4</th>\n",
       "      <td>NaN</td>\n",
       "      <td>7.29191</td>\n",
       "      <td>81.67841</td>\n",
       "      <td>2019</td>\n",
       "      <td>95</td>\n",
       "      <td>0.05</td>\n",
       "      <td>59.81</td>\n",
       "      <td>28.71</td>\n",
       "      <td>10770.38</td>\n",
       "    </tr>\n",
       "  </tbody>\n",
       "</table>\n",
       "</div>"
      ],
      "text/plain": [
       "  Divisoinal Secretary Area      lat       lon  year  DOY  Rainfalls  \\\n",
       "0                01. Ampara  7.29191  81.67841  2019   91       0.39   \n",
       "1                       NaN  7.29191  81.67841  2019   92       0.23   \n",
       "2                       NaN  7.29191  81.67841  2019   93       0.08   \n",
       "3                       NaN  7.29191  81.67841  2019   94       0.01   \n",
       "4                       NaN  7.29191  81.67841  2019   95       0.05   \n",
       "\n",
       "   Humidity  Temparature   Harvest  \n",
       "0     69.43        29.18  10770.38  \n",
       "1     71.53        28.71  10770.38  \n",
       "2     68.92        28.48  10770.38  \n",
       "3     61.05        28.57  10770.38  \n",
       "4     59.81        28.71  10770.38  "
      ]
     },
     "execution_count": 3,
     "metadata": {},
     "output_type": "execute_result"
    }
   ],
   "source": [
    "dataset = pd.read_csv(r'C:\\Users\\Acer\\Downloads\\Ann_model_sample.csv', header =0)\n",
    "dataset.head()\n"
   ]
  },
  {
   "cell_type": "code",
   "execution_count": null,
   "metadata": {},
   "outputs": [],
   "source": []
  },
  {
   "cell_type": "code",
   "execution_count": 5,
   "metadata": {},
   "outputs": [
    {
     "data": {
      "text/html": [
       "<div>\n",
       "<style scoped>\n",
       "    .dataframe tbody tr th:only-of-type {\n",
       "        vertical-align: middle;\n",
       "    }\n",
       "\n",
       "    .dataframe tbody tr th {\n",
       "        vertical-align: top;\n",
       "    }\n",
       "\n",
       "    .dataframe thead th {\n",
       "        text-align: right;\n",
       "    }\n",
       "</style>\n",
       "<table border=\"1\" class=\"dataframe\">\n",
       "  <thead>\n",
       "    <tr style=\"text-align: right;\">\n",
       "      <th></th>\n",
       "      <th>Divisoinal Secretary Area</th>\n",
       "      <th>lat</th>\n",
       "      <th>lon</th>\n",
       "      <th>year</th>\n",
       "      <th>DOY</th>\n",
       "      <th>Rainfalls</th>\n",
       "      <th>Humidity</th>\n",
       "      <th>Temparature</th>\n",
       "      <th>Harvest</th>\n",
       "    </tr>\n",
       "  </thead>\n",
       "  <tbody>\n",
       "    <tr>\n",
       "      <th>0</th>\n",
       "      <td>01. Ampara</td>\n",
       "      <td>7.29191</td>\n",
       "      <td>81.67841</td>\n",
       "      <td>2019</td>\n",
       "      <td>91</td>\n",
       "      <td>0.39</td>\n",
       "      <td>69.43</td>\n",
       "      <td>29.18</td>\n",
       "      <td>10770.38</td>\n",
       "    </tr>\n",
       "    <tr>\n",
       "      <th>1</th>\n",
       "      <td>NaN</td>\n",
       "      <td>7.29191</td>\n",
       "      <td>81.67841</td>\n",
       "      <td>2019</td>\n",
       "      <td>92</td>\n",
       "      <td>0.23</td>\n",
       "      <td>71.53</td>\n",
       "      <td>28.71</td>\n",
       "      <td>10770.38</td>\n",
       "    </tr>\n",
       "    <tr>\n",
       "      <th>2</th>\n",
       "      <td>NaN</td>\n",
       "      <td>7.29191</td>\n",
       "      <td>81.67841</td>\n",
       "      <td>2019</td>\n",
       "      <td>93</td>\n",
       "      <td>0.08</td>\n",
       "      <td>68.92</td>\n",
       "      <td>28.48</td>\n",
       "      <td>10770.38</td>\n",
       "    </tr>\n",
       "    <tr>\n",
       "      <th>3</th>\n",
       "      <td>NaN</td>\n",
       "      <td>7.29191</td>\n",
       "      <td>81.67841</td>\n",
       "      <td>2019</td>\n",
       "      <td>94</td>\n",
       "      <td>0.01</td>\n",
       "      <td>61.05</td>\n",
       "      <td>28.57</td>\n",
       "      <td>10770.38</td>\n",
       "    </tr>\n",
       "    <tr>\n",
       "      <th>4</th>\n",
       "      <td>NaN</td>\n",
       "      <td>7.29191</td>\n",
       "      <td>81.67841</td>\n",
       "      <td>2019</td>\n",
       "      <td>95</td>\n",
       "      <td>0.05</td>\n",
       "      <td>59.81</td>\n",
       "      <td>28.71</td>\n",
       "      <td>10770.38</td>\n",
       "    </tr>\n",
       "  </tbody>\n",
       "</table>\n",
       "</div>"
      ],
      "text/plain": [
       "  Divisoinal Secretary Area      lat       lon  year  DOY  Rainfalls  \\\n",
       "0                01. Ampara  7.29191  81.67841  2019   91       0.39   \n",
       "1                       NaN  7.29191  81.67841  2019   92       0.23   \n",
       "2                       NaN  7.29191  81.67841  2019   93       0.08   \n",
       "3                       NaN  7.29191  81.67841  2019   94       0.01   \n",
       "4                       NaN  7.29191  81.67841  2019   95       0.05   \n",
       "\n",
       "   Humidity  Temparature   Harvest  \n",
       "0     69.43        29.18  10770.38  \n",
       "1     71.53        28.71  10770.38  \n",
       "2     68.92        28.48  10770.38  \n",
       "3     61.05        28.57  10770.38  \n",
       "4     59.81        28.71  10770.38  "
      ]
     },
     "execution_count": 5,
     "metadata": {},
     "output_type": "execute_result"
    }
   ],
   "source": [
    "dataset.head()"
   ]
  },
  {
   "cell_type": "code",
   "execution_count": null,
   "metadata": {},
   "outputs": [],
   "source": []
  },
  {
   "cell_type": "code",
   "execution_count": 8,
   "metadata": {},
   "outputs": [
    {
     "name": "stdout",
     "output_type": "stream",
     "text": [
      "[[7.29191]\n",
      " [7.29191]\n",
      " [7.29191]\n",
      " ...\n",
      " [7.28361]\n",
      " [7.28361]\n",
      " [7.28361]]\n",
      "[81.67841 81.67841 81.67841 ... 81.81121 81.81121 81.81121]\n"
     ]
    }
   ],
   "source": [
    "X = dataset.iloc[:, 1:2].values\n",
    "y = dataset.iloc[:, 2].values\n",
    "print(X)\n",
    "print(y)\n"
   ]
  },
  {
   "cell_type": "code",
   "execution_count": null,
   "metadata": {},
   "outputs": [],
   "source": []
  },
  {
   "cell_type": "code",
   "execution_count": 9,
   "metadata": {},
   "outputs": [],
   "source": [
    "from sklearn.model_selection import train_test_split\n",
    "X_train, X_test, y_train, y_test = train_test_split(X, y, test_size = 0.3, random_state = 0)"
   ]
  },
  {
   "cell_type": "code",
   "execution_count": 10,
   "metadata": {},
   "outputs": [
    {
     "data": {
      "text/plain": [
       "(2846, 1)"
      ]
     },
     "execution_count": 10,
     "metadata": {},
     "output_type": "execute_result"
    }
   ],
   "source": [
    "X_train.shape"
   ]
  },
  {
   "cell_type": "code",
   "execution_count": 11,
   "metadata": {},
   "outputs": [
    {
     "data": {
      "text/plain": [
       "(2846,)"
      ]
     },
     "execution_count": 11,
     "metadata": {},
     "output_type": "execute_result"
    }
   ],
   "source": [
    "y_train.shape"
   ]
  },
  {
   "cell_type": "code",
   "execution_count": 12,
   "metadata": {},
   "outputs": [],
   "source": [
    "from sklearn.preprocessing import StandardScaler\n",
    "sc = StandardScaler()\n",
    "X_train = sc.fit_transform(X_train)\n",
    "X_test = sc.transform(X_test)\n"
   ]
  },
  {
   "cell_type": "code",
   "execution_count": 15,
   "metadata": {},
   "outputs": [
    {
     "name": "stderr",
     "output_type": "stream",
     "text": [
      "C:\\Users\\Acer\\.conda\\envs\\tensorflow\\lib\\site-packages\\ipykernel_launcher.py:2: UserWarning: Update your `Dense` call to the Keras 2 API: `Dense(input_dim=1, units=9, kernel_initializer=\"uniform\")`\n",
      "  \n",
      "C:\\Users\\Acer\\.conda\\envs\\tensorflow\\lib\\site-packages\\ipykernel_launcher.py:3: UserWarning: Update your `Dense` call to the Keras 2 API: `Dense(units=9, kernel_initializer=\"uniform\")`\n",
      "  This is separate from the ipykernel package so we can avoid doing imports until\n",
      "C:\\Users\\Acer\\.conda\\envs\\tensorflow\\lib\\site-packages\\ipykernel_launcher.py:6: UserWarning: The `nb_epoch` argument in `fit` has been renamed `epochs`.\n",
      "  \n"
     ]
    },
    {
     "name": "stdout",
     "output_type": "stream",
     "text": [
      "Train on 2846 samples, validate on 1220 samples\n",
      "Epoch 1/100\n",
      "2846/2846 [==============================] - 1s 265us/step - loss: 76.2959 - mean_absolute_error: 76.2959 - mse: 5849.6040 - val_loss: 62.4515 - val_mean_absolute_error: 62.4514 - val_mse: 3900.2869\n",
      "Epoch 2/100\n",
      "2846/2846 [==============================] - 1s 200us/step - loss: 24.6517 - mean_absolute_error: 24.6517 - mse: 1108.9402 - val_loss: 0.2605 - val_mean_absolute_error: 0.2605 - val_mse: 0.1208\n",
      "Epoch 3/100\n",
      "2846/2846 [==============================] - 1s 199us/step - loss: 0.2378 - mean_absolute_error: 0.2378 - mse: 0.0948 - val_loss: 0.2257 - val_mean_absolute_error: 0.2257 - val_mse: 0.0977\n",
      "Epoch 4/100\n",
      "2846/2846 [==============================] - 1s 201us/step - loss: 0.2400 - mean_absolute_error: 0.2400 - mse: 0.1098 - val_loss: 0.2241 - val_mean_absolute_error: 0.2241 - val_mse: 0.1063\n",
      "Epoch 5/100\n",
      "2846/2846 [==============================] - 1s 215us/step - loss: 0.2402 - mean_absolute_error: 0.2402 - mse: 0.1087 - val_loss: 0.2191 - val_mean_absolute_error: 0.2191 - val_mse: 0.0828\n",
      "Epoch 6/100\n",
      "2846/2846 [==============================] - 1s 212us/step - loss: 0.2283 - mean_absolute_error: 0.2283 - mse: 0.0883 - val_loss: 0.2569 - val_mean_absolute_error: 0.2569 - val_mse: 0.0881\n",
      "Epoch 7/100\n",
      "2846/2846 [==============================] - 1s 201us/step - loss: 0.2412 - mean_absolute_error: 0.2412 - mse: 0.0974 - val_loss: 0.2317 - val_mean_absolute_error: 0.2317 - val_mse: 0.0949\n",
      "Epoch 8/100\n",
      "2846/2846 [==============================] - 1s 197us/step - loss: 0.2351 - mean_absolute_error: 0.2351 - mse: 0.0933 - val_loss: 0.2315 - val_mean_absolute_error: 0.2315 - val_mse: 0.0996\n",
      "Epoch 9/100\n",
      "2846/2846 [==============================] - 1s 198us/step - loss: 0.2356 - mean_absolute_error: 0.2356 - mse: 0.0946 - val_loss: 0.2552 - val_mean_absolute_error: 0.2552 - val_mse: 0.1073\n",
      "Epoch 10/100\n",
      "2846/2846 [==============================] - 1s 197us/step - loss: 0.2489 - mean_absolute_error: 0.2489 - mse: 0.1112 - val_loss: 0.2268 - val_mean_absolute_error: 0.2268 - val_mse: 0.0925\n",
      "Epoch 11/100\n",
      "2846/2846 [==============================] - 1s 196us/step - loss: 0.2428 - mean_absolute_error: 0.2428 - mse: 0.1150 - val_loss: 0.2596 - val_mean_absolute_error: 0.2596 - val_mse: 0.1104\n",
      "Epoch 12/100\n",
      "2846/2846 [==============================] - 1s 198us/step - loss: 0.2374 - mean_absolute_error: 0.2374 - mse: 0.1041 - val_loss: 0.2916 - val_mean_absolute_error: 0.2916 - val_mse: 0.1943\n",
      "Epoch 13/100\n",
      "2846/2846 [==============================] - 1s 197us/step - loss: 0.2398 - mean_absolute_error: 0.2398 - mse: 0.0979 - val_loss: 0.2279 - val_mean_absolute_error: 0.2279 - val_mse: 0.0903\n",
      "Epoch 14/100\n",
      "2846/2846 [==============================] - 1s 204us/step - loss: 0.2324 - mean_absolute_error: 0.2324 - mse: 0.0966 - val_loss: 0.2374 - val_mean_absolute_error: 0.2374 - val_mse: 0.0799\n",
      "Epoch 15/100\n",
      "2846/2846 [==============================] - 1s 201us/step - loss: 0.2277 - mean_absolute_error: 0.2277 - mse: 0.0913 - val_loss: 0.2350 - val_mean_absolute_error: 0.2350 - val_mse: 0.0930\n",
      "Epoch 16/100\n",
      "2846/2846 [==============================] - 1s 193us/step - loss: 0.2325 - mean_absolute_error: 0.2325 - mse: 0.0932 - val_loss: 0.2425 - val_mean_absolute_error: 0.2425 - val_mse: 0.1084\n",
      "Epoch 17/100\n",
      "2846/2846 [==============================] - 1s 193us/step - loss: 0.2297 - mean_absolute_error: 0.2297 - mse: 0.0917 - val_loss: 0.2354 - val_mean_absolute_error: 0.2354 - val_mse: 0.0843\n",
      "Epoch 18/100\n",
      "2846/2846 [==============================] - 1s 190us/step - loss: 0.2355 - mean_absolute_error: 0.2355 - mse: 0.0930 - val_loss: 0.2470 - val_mean_absolute_error: 0.2470 - val_mse: 0.0840\n",
      "Epoch 19/100\n",
      "2846/2846 [==============================] - 1s 198us/step - loss: 0.2312 - mean_absolute_error: 0.2312 - mse: 0.0903 - val_loss: 0.2439 - val_mean_absolute_error: 0.2439 - val_mse: 0.0955\n",
      "Epoch 20/100\n",
      "2846/2846 [==============================] - 1s 196us/step - loss: 0.2363 - mean_absolute_error: 0.2363 - mse: 0.1136 - val_loss: 0.2796 - val_mean_absolute_error: 0.2796 - val_mse: 0.1435\n",
      "Epoch 21/100\n",
      "2846/2846 [==============================] - 1s 198us/step - loss: 0.2311 - mean_absolute_error: 0.2311 - mse: 0.1031 - val_loss: 0.2412 - val_mean_absolute_error: 0.2412 - val_mse: 0.0906\n",
      "Epoch 22/100\n",
      "2846/2846 [==============================] - 1s 196us/step - loss: 0.2282 - mean_absolute_error: 0.2282 - mse: 0.0914 - val_loss: 0.2223 - val_mean_absolute_error: 0.2223 - val_mse: 0.0826\n",
      "Epoch 23/100\n",
      "2846/2846 [==============================] - 1s 204us/step - loss: 0.2357 - mean_absolute_error: 0.2357 - mse: 0.1011 - val_loss: 0.2540 - val_mean_absolute_error: 0.2540 - val_mse: 0.1114\n",
      "Epoch 24/100\n",
      "2846/2846 [==============================] - 1s 200us/step - loss: 0.2399 - mean_absolute_error: 0.2399 - mse: 0.1040 - val_loss: 0.2285 - val_mean_absolute_error: 0.2285 - val_mse: 0.0912\n",
      "Epoch 25/100\n",
      "2846/2846 [==============================] - 1s 199us/step - loss: 0.2273 - mean_absolute_error: 0.2273 - mse: 0.0923 - val_loss: 0.2563 - val_mean_absolute_error: 0.2563 - val_mse: 0.1130\n",
      "Epoch 26/100\n",
      "2846/2846 [==============================] - 1s 200us/step - loss: 0.2299 - mean_absolute_error: 0.2299 - mse: 0.0897 - val_loss: 0.2298 - val_mean_absolute_error: 0.2298 - val_mse: 0.0946\n",
      "Epoch 27/100\n",
      "2846/2846 [==============================] - 1s 197us/step - loss: 0.2323 - mean_absolute_error: 0.2323 - mse: 0.0938 - val_loss: 0.2595 - val_mean_absolute_error: 0.2595 - val_mse: 0.1155\n",
      "Epoch 28/100\n",
      "2846/2846 [==============================] - 1s 200us/step - loss: 0.2340 - mean_absolute_error: 0.2340 - mse: 0.0946 - val_loss: 0.2258 - val_mean_absolute_error: 0.2258 - val_mse: 0.0944\n",
      "Epoch 29/100\n",
      "2846/2846 [==============================] - 1s 195us/step - loss: 0.2389 - mean_absolute_error: 0.2389 - mse: 0.1029 - val_loss: 0.2350 - val_mean_absolute_error: 0.2350 - val_mse: 0.1142\n",
      "Epoch 30/100\n",
      "2846/2846 [==============================] - 1s 198us/step - loss: 0.2361 - mean_absolute_error: 0.2361 - mse: 0.1093 - val_loss: 0.2605 - val_mean_absolute_error: 0.2605 - val_mse: 0.1273\n",
      "Epoch 31/100\n",
      "2846/2846 [==============================] - 1s 195us/step - loss: 0.2360 - mean_absolute_error: 0.2360 - mse: 0.1016 - val_loss: 0.2377 - val_mean_absolute_error: 0.2377 - val_mse: 0.0826\n",
      "Epoch 32/100\n",
      "2846/2846 [==============================] - 1s 203us/step - loss: 0.2320 - mean_absolute_error: 0.2320 - mse: 0.0958 - val_loss: 0.2239 - val_mean_absolute_error: 0.2239 - val_mse: 0.1014\n",
      "Epoch 33/100\n",
      "2846/2846 [==============================] - 1s 214us/step - loss: 0.2375 - mean_absolute_error: 0.2375 - mse: 0.0999 - val_loss: 0.2385 - val_mean_absolute_error: 0.2385 - val_mse: 0.1106\n",
      "Epoch 34/100\n",
      "2846/2846 [==============================] - 1s 223us/step - loss: 0.2299 - mean_absolute_error: 0.2299 - mse: 0.0960 - val_loss: 0.2446 - val_mean_absolute_error: 0.2446 - val_mse: 0.0887\n",
      "Epoch 35/100\n",
      "2846/2846 [==============================] - 1s 208us/step - loss: 0.2405 - mean_absolute_error: 0.2405 - mse: 0.1080 - val_loss: 0.2225 - val_mean_absolute_error: 0.2225 - val_mse: 0.0827\n",
      "Epoch 36/100\n",
      "2846/2846 [==============================] - 1s 198us/step - loss: 0.2313 - mean_absolute_error: 0.2313 - mse: 0.0898 - val_loss: 0.2497 - val_mean_absolute_error: 0.2497 - val_mse: 0.0862\n",
      "Epoch 37/100\n",
      "2846/2846 [==============================] - 1s 197us/step - loss: 0.2288 - mean_absolute_error: 0.2288 - mse: 0.0926 - val_loss: 0.2865 - val_mean_absolute_error: 0.2865 - val_mse: 0.1472\n",
      "Epoch 38/100\n",
      "2846/2846 [==============================] - 1s 200us/step - loss: 0.2330 - mean_absolute_error: 0.2330 - mse: 0.0953 - val_loss: 0.2252 - val_mean_absolute_error: 0.2252 - val_mse: 0.0821\n",
      "Epoch 39/100\n",
      "2846/2846 [==============================] - 1s 200us/step - loss: 0.2306 - mean_absolute_error: 0.2306 - mse: 0.0924 - val_loss: 0.2472 - val_mean_absolute_error: 0.2472 - val_mse: 0.0881\n",
      "Epoch 40/100\n",
      "2846/2846 [==============================] - 1s 207us/step - loss: 0.2354 - mean_absolute_error: 0.2354 - mse: 0.0957 - val_loss: 0.2214 - val_mean_absolute_error: 0.2214 - val_mse: 0.0818\n",
      "Epoch 41/100\n",
      "2846/2846 [==============================] - 1s 195us/step - loss: 0.2394 - mean_absolute_error: 0.2394 - mse: 0.1014 - val_loss: 0.2334 - val_mean_absolute_error: 0.2334 - val_mse: 0.0804\n",
      "Epoch 42/100\n",
      "2846/2846 [==============================] - 1s 198us/step - loss: 0.2300 - mean_absolute_error: 0.2300 - mse: 0.0901 - val_loss: 0.2459 - val_mean_absolute_error: 0.2459 - val_mse: 0.1122\n",
      "Epoch 43/100\n",
      "2846/2846 [==============================] - 1s 204us/step - loss: 0.2286 - mean_absolute_error: 0.2286 - mse: 0.0917 - val_loss: 0.2284 - val_mean_absolute_error: 0.2284 - val_mse: 0.0853\n",
      "Epoch 44/100\n",
      "2846/2846 [==============================] - 1s 199us/step - loss: 0.2284 - mean_absolute_error: 0.2284 - mse: 0.0899 - val_loss: 0.2293 - val_mean_absolute_error: 0.2293 - val_mse: 0.0903\n",
      "Epoch 45/100\n",
      "2846/2846 [==============================] - 1s 204us/step - loss: 0.2333 - mean_absolute_error: 0.2333 - mse: 0.0936 - val_loss: 0.2480 - val_mean_absolute_error: 0.2480 - val_mse: 0.1027\n",
      "Epoch 46/100\n",
      "2846/2846 [==============================] - 1s 195us/step - loss: 0.2283 - mean_absolute_error: 0.2283 - mse: 0.0901 - val_loss: 0.2202 - val_mean_absolute_error: 0.2202 - val_mse: 0.0909\n",
      "Epoch 47/100\n",
      "2846/2846 [==============================] - 1s 191us/step - loss: 0.2386 - mean_absolute_error: 0.2386 - mse: 0.1010 - val_loss: 0.2616 - val_mean_absolute_error: 0.2616 - val_mse: 0.1317\n",
      "Epoch 48/100\n",
      "2846/2846 [==============================] - 1s 193us/step - loss: 0.2347 - mean_absolute_error: 0.2347 - mse: 0.0976 - val_loss: 0.2284 - val_mean_absolute_error: 0.2284 - val_mse: 0.0979\n",
      "Epoch 49/100\n",
      "2846/2846 [==============================] - 1s 205us/step - loss: 0.2321 - mean_absolute_error: 0.2321 - mse: 0.0950 - val_loss: 0.2320 - val_mean_absolute_error: 0.2320 - val_mse: 0.0935\n",
      "Epoch 50/100\n",
      "2846/2846 [==============================] - 1s 207us/step - loss: 0.2365 - mean_absolute_error: 0.2365 - mse: 0.0940 - val_loss: 0.2336 - val_mean_absolute_error: 0.2336 - val_mse: 0.1016\n",
      "Epoch 51/100\n",
      "2846/2846 [==============================] - 1s 200us/step - loss: 0.2343 - mean_absolute_error: 0.2343 - mse: 0.0969 - val_loss: 0.2468 - val_mean_absolute_error: 0.2468 - val_mse: 0.0843\n",
      "Epoch 52/100\n",
      "2846/2846 [==============================] - 1s 202us/step - loss: 0.2404 - mean_absolute_error: 0.2404 - mse: 0.1056 - val_loss: 0.2266 - val_mean_absolute_error: 0.2266 - val_mse: 0.1026\n",
      "Epoch 53/100\n",
      "2846/2846 [==============================] - 1s 198us/step - loss: 0.2333 - mean_absolute_error: 0.2333 - mse: 0.0901 - val_loss: 0.2335 - val_mean_absolute_error: 0.2335 - val_mse: 0.1047\n",
      "Epoch 54/100\n",
      "2846/2846 [==============================] - 1s 199us/step - loss: 0.2431 - mean_absolute_error: 0.2431 - mse: 0.1078 - val_loss: 0.2537 - val_mean_absolute_error: 0.2537 - val_mse: 0.1076\n",
      "Epoch 55/100\n",
      "2846/2846 [==============================] - 1s 195us/step - loss: 0.2274 - mean_absolute_error: 0.2274 - mse: 0.0902 - val_loss: 0.2651 - val_mean_absolute_error: 0.2651 - val_mse: 0.1161\n",
      "Epoch 56/100\n",
      "2846/2846 [==============================] - 1s 194us/step - loss: 0.2354 - mean_absolute_error: 0.2354 - mse: 0.1040 - val_loss: 0.2430 - val_mean_absolute_error: 0.2430 - val_mse: 0.0818\n",
      "Epoch 57/100\n",
      "2846/2846 [==============================] - 1s 197us/step - loss: 0.2291 - mean_absolute_error: 0.2291 - mse: 0.0905 - val_loss: 0.2291 - val_mean_absolute_error: 0.2291 - val_mse: 0.0898\n",
      "Epoch 58/100\n",
      "2846/2846 [==============================] - 1s 207us/step - loss: 0.2348 - mean_absolute_error: 0.2348 - mse: 0.0938 - val_loss: 0.2292 - val_mean_absolute_error: 0.2292 - val_mse: 0.0967\n",
      "Epoch 59/100\n",
      "2846/2846 [==============================] - 1s 198us/step - loss: 0.2313 - mean_absolute_error: 0.2313 - mse: 0.0906 - val_loss: 0.2227 - val_mean_absolute_error: 0.2227 - val_mse: 0.0828\n",
      "Epoch 60/100\n",
      "2846/2846 [==============================] - 1s 206us/step - loss: 0.2365 - mean_absolute_error: 0.2365 - mse: 0.0963 - val_loss: 0.2655 - val_mean_absolute_error: 0.2655 - val_mse: 0.0920\n",
      "Epoch 61/100\n",
      "2846/2846 [==============================] - 1s 212us/step - loss: 0.2344 - mean_absolute_error: 0.2344 - mse: 0.0921 - val_loss: 0.2384 - val_mean_absolute_error: 0.2384 - val_mse: 0.0853\n",
      "Epoch 62/100\n",
      "2846/2846 [==============================] - 1s 213us/step - loss: 0.2322 - mean_absolute_error: 0.2322 - mse: 0.0943 - val_loss: 0.2270 - val_mean_absolute_error: 0.2270 - val_mse: 0.0883\n",
      "Epoch 63/100\n",
      "2846/2846 [==============================] - 1s 199us/step - loss: 0.2334 - mean_absolute_error: 0.2334 - mse: 0.0931 - val_loss: 0.2208 - val_mean_absolute_error: 0.2208 - val_mse: 0.0820\n",
      "Epoch 64/100\n",
      "2846/2846 [==============================] - 1s 196us/step - loss: 0.2335 - mean_absolute_error: 0.2335 - mse: 0.0998 - val_loss: 0.2247 - val_mean_absolute_error: 0.2247 - val_mse: 0.0952\n",
      "Epoch 65/100\n",
      "2846/2846 [==============================] - 1s 200us/step - loss: 0.2327 - mean_absolute_error: 0.2327 - mse: 0.1042 - val_loss: 0.2330 - val_mean_absolute_error: 0.2330 - val_mse: 0.0854\n",
      "Epoch 66/100\n",
      "2846/2846 [==============================] - 1s 206us/step - loss: 0.2319 - mean_absolute_error: 0.2319 - mse: 0.0900 - val_loss: 0.2233 - val_mean_absolute_error: 0.2233 - val_mse: 0.0809\n",
      "Epoch 67/100\n",
      "2846/2846 [==============================] - 1s 204us/step - loss: 0.2330 - mean_absolute_error: 0.2330 - mse: 0.0983 - val_loss: 0.2537 - val_mean_absolute_error: 0.2537 - val_mse: 0.0930\n",
      "Epoch 68/100\n",
      "2846/2846 [==============================] - 1s 200us/step - loss: 0.2323 - mean_absolute_error: 0.2323 - mse: 0.0913 - val_loss: 0.2225 - val_mean_absolute_error: 0.2225 - val_mse: 0.0873\n",
      "Epoch 69/100\n",
      "2846/2846 [==============================] - 1s 195us/step - loss: 0.2344 - mean_absolute_error: 0.2344 - mse: 0.0936 - val_loss: 0.2394 - val_mean_absolute_error: 0.2394 - val_mse: 0.1098\n",
      "Epoch 70/100\n",
      "2846/2846 [==============================] - 1s 202us/step - loss: 0.2348 - mean_absolute_error: 0.2348 - mse: 0.0975 - val_loss: 0.2270 - val_mean_absolute_error: 0.2270 - val_mse: 0.0839\n",
      "Epoch 71/100\n",
      "2846/2846 [==============================] - 1s 198us/step - loss: 0.2437 - mean_absolute_error: 0.2437 - mse: 0.1065 - val_loss: 0.2752 - val_mean_absolute_error: 0.2752 - val_mse: 0.1274\n",
      "Epoch 72/100\n",
      "2846/2846 [==============================] - 1s 213us/step - loss: 0.2327 - mean_absolute_error: 0.2327 - mse: 0.0977 - val_loss: 0.2241 - val_mean_absolute_error: 0.2241 - val_mse: 0.0848\n",
      "Epoch 73/100\n",
      "2846/2846 [==============================] - 1s 202us/step - loss: 0.2378 - mean_absolute_error: 0.2378 - mse: 0.0958 - val_loss: 0.2535 - val_mean_absolute_error: 0.2535 - val_mse: 0.0915\n",
      "Epoch 74/100\n",
      "2846/2846 [==============================] - 1s 202us/step - loss: 0.2393 - mean_absolute_error: 0.2393 - mse: 0.1012 - val_loss: 0.2259 - val_mean_absolute_error: 0.2259 - val_mse: 0.0873\n",
      "Epoch 75/100\n",
      "2846/2846 [==============================] - 1s 209us/step - loss: 0.2409 - mean_absolute_error: 0.2409 - mse: 0.1000 - val_loss: 0.2454 - val_mean_absolute_error: 0.2454 - val_mse: 0.0836\n",
      "Epoch 76/100\n",
      "2846/2846 [==============================] - 1s 201us/step - loss: 0.2395 - mean_absolute_error: 0.2395 - mse: 0.0975 - val_loss: 0.3030 - val_mean_absolute_error: 0.3030 - val_mse: 0.1196\n",
      "Epoch 77/100\n",
      "2846/2846 [==============================] - 1s 199us/step - loss: 0.2398 - mean_absolute_error: 0.2398 - mse: 0.1064 - val_loss: 0.2585 - val_mean_absolute_error: 0.2585 - val_mse: 0.1209\n",
      "Epoch 78/100\n",
      "2846/2846 [==============================] - 1s 193us/step - loss: 0.2381 - mean_absolute_error: 0.2381 - mse: 0.1045 - val_loss: 0.2446 - val_mean_absolute_error: 0.2446 - val_mse: 0.0993\n",
      "Epoch 79/100\n",
      "2846/2846 [==============================] - 1s 197us/step - loss: 0.2284 - mean_absolute_error: 0.2284 - mse: 0.1016 - val_loss: 0.2196 - val_mean_absolute_error: 0.2196 - val_mse: 0.0881\n",
      "Epoch 80/100\n",
      "2846/2846 [==============================] - 1s 190us/step - loss: 0.2355 - mean_absolute_error: 0.2355 - mse: 0.0969 - val_loss: 0.2207 - val_mean_absolute_error: 0.2207 - val_mse: 0.0818\n",
      "Epoch 81/100\n",
      "2846/2846 [==============================] - 1s 195us/step - loss: 0.2465 - mean_absolute_error: 0.2465 - mse: 0.1156 - val_loss: 0.2238 - val_mean_absolute_error: 0.2238 - val_mse: 0.0904\n"
     ]
    },
    {
     "name": "stdout",
     "output_type": "stream",
     "text": [
      "Epoch 82/100\n",
      "2846/2846 [==============================] - 1s 196us/step - loss: 0.2348 - mean_absolute_error: 0.2348 - mse: 0.1055 - val_loss: 0.2322 - val_mean_absolute_error: 0.2322 - val_mse: 0.1002\n",
      "Epoch 83/100\n",
      "2846/2846 [==============================] - 1s 194us/step - loss: 0.2331 - mean_absolute_error: 0.2331 - mse: 0.1045 - val_loss: 0.2219 - val_mean_absolute_error: 0.2219 - val_mse: 0.0827\n",
      "Epoch 84/100\n",
      "2846/2846 [==============================] - 1s 197us/step - loss: 0.2276 - mean_absolute_error: 0.2276 - mse: 0.0956 - val_loss: 0.2892 - val_mean_absolute_error: 0.2892 - val_mse: 0.1600\n",
      "Epoch 85/100\n",
      "2846/2846 [==============================] - 1s 197us/step - loss: 0.2347 - mean_absolute_error: 0.2347 - mse: 0.0948 - val_loss: 0.2216 - val_mean_absolute_error: 0.2216 - val_mse: 0.0831\n",
      "Epoch 86/100\n",
      "2846/2846 [==============================] - 1s 194us/step - loss: 0.2340 - mean_absolute_error: 0.2340 - mse: 0.1034 - val_loss: 0.2592 - val_mean_absolute_error: 0.2592 - val_mse: 0.1154\n",
      "Epoch 87/100\n",
      "2846/2846 [==============================] - 1s 193us/step - loss: 0.2331 - mean_absolute_error: 0.2331 - mse: 0.0930 - val_loss: 0.2276 - val_mean_absolute_error: 0.2276 - val_mse: 0.0924\n",
      "Epoch 88/100\n",
      "2846/2846 [==============================] - 1s 197us/step - loss: 0.2355 - mean_absolute_error: 0.2355 - mse: 0.1042 - val_loss: 0.2951 - val_mean_absolute_error: 0.2951 - val_mse: 0.1689\n",
      "Epoch 89/100\n",
      "2846/2846 [==============================] - 1s 210us/step - loss: 0.2325 - mean_absolute_error: 0.2325 - mse: 0.1034 - val_loss: 0.2598 - val_mean_absolute_error: 0.2598 - val_mse: 0.0972\n",
      "Epoch 90/100\n",
      "2846/2846 [==============================] - 1s 205us/step - loss: 0.2340 - mean_absolute_error: 0.2340 - mse: 0.0904 - val_loss: 0.2228 - val_mean_absolute_error: 0.2228 - val_mse: 0.0828\n",
      "Epoch 91/100\n",
      "2846/2846 [==============================] - 1s 202us/step - loss: 0.2390 - mean_absolute_error: 0.2390 - mse: 0.1068 - val_loss: 0.2290 - val_mean_absolute_error: 0.2290 - val_mse: 0.0916\n",
      "Epoch 92/100\n",
      "2846/2846 [==============================] - 1s 199us/step - loss: 0.2364 - mean_absolute_error: 0.2364 - mse: 0.1000 - val_loss: 0.2288 - val_mean_absolute_error: 0.2288 - val_mse: 0.0804\n",
      "Epoch 93/100\n",
      "2846/2846 [==============================] - 1s 197us/step - loss: 0.2392 - mean_absolute_error: 0.2392 - mse: 0.1011 - val_loss: 0.3000 - val_mean_absolute_error: 0.3000 - val_mse: 0.1709\n",
      "Epoch 94/100\n",
      "2846/2846 [==============================] - 1s 194us/step - loss: 0.2299 - mean_absolute_error: 0.2299 - mse: 0.0889 - val_loss: 0.2980 - val_mean_absolute_error: 0.2980 - val_mse: 0.1619\n",
      "Epoch 95/100\n",
      "2846/2846 [==============================] - 1s 194us/step - loss: 0.2365 - mean_absolute_error: 0.2365 - mse: 0.0988 - val_loss: 0.2575 - val_mean_absolute_error: 0.2575 - val_mse: 0.0934\n",
      "Epoch 96/100\n",
      "2846/2846 [==============================] - 1s 194us/step - loss: 0.2361 - mean_absolute_error: 0.2361 - mse: 0.1009 - val_loss: 0.2347 - val_mean_absolute_error: 0.2347 - val_mse: 0.0961\n",
      "Epoch 97/100\n",
      "2846/2846 [==============================] - 1s 194us/step - loss: 0.2367 - mean_absolute_error: 0.2367 - mse: 0.0990 - val_loss: 0.2279 - val_mean_absolute_error: 0.2279 - val_mse: 0.0886\n",
      "Epoch 98/100\n",
      "2846/2846 [==============================] - 1s 195us/step - loss: 0.2312 - mean_absolute_error: 0.2312 - mse: 0.0986 - val_loss: 0.2243 - val_mean_absolute_error: 0.2243 - val_mse: 0.0838\n",
      "Epoch 99/100\n",
      "2846/2846 [==============================] - 1s 194us/step - loss: 0.2357 - mean_absolute_error: 0.2357 - mse: 0.0921 - val_loss: 0.2215 - val_mean_absolute_error: 0.2215 - val_mse: 0.0846\n",
      "Epoch 100/100\n",
      "2846/2846 [==============================] - 1s 195us/step - loss: 0.2341 - mean_absolute_error: 0.2341 - mse: 0.0959 - val_loss: 0.2446 - val_mean_absolute_error: 0.2446 - val_mse: 0.0942\n"
     ]
    }
   ],
   "source": [
    "classifier = Sequential()\n",
    "classifier.add(Dense(output_dim = 9, init = 'uniform',  input_dim = 1))\n",
    "classifier.add(Dense(output_dim = 9, init = 'uniform'))\n",
    "classifier.add(Dense(1))\n",
    "classifier.compile(loss='mean_absolute_error', optimizer='adam', metrics=['mean_absolute_error','mse'])\n",
    "history=classifier.fit(X_train, y_train,validation_data =[X_test,y_test], batch_size = 10, nb_epoch = 100)\n",
    "classifier.save('stock_prediction6.h5')"
   ]
  },
  {
   "cell_type": "code",
   "execution_count": 16,
   "metadata": {},
   "outputs": [],
   "source": [
    "classifier = load_model('stock_prediction6.h5')"
   ]
  },
  {
   "cell_type": "code",
   "execution_count": 17,
   "metadata": {},
   "outputs": [
    {
     "name": "stdout",
     "output_type": "stream",
     "text": [
      "1220/1220 [==============================] - 0s 47us/step\n"
     ]
    },
    {
     "data": {
      "text/plain": [
       "0.24457823331238793"
      ]
     },
     "execution_count": 17,
     "metadata": {},
     "output_type": "execute_result"
    }
   ],
   "source": [
    "MAE,mse,loss = classifier.evaluate(X_test,y_test)\n",
    "MAE"
   ]
  },
  {
   "cell_type": "code",
   "execution_count": 18,
   "metadata": {},
   "outputs": [
    {
     "data": {
      "image/png": "[encoded data removed]",
      "text/plain": [
       "<Figure size 432x288 with 1 Axes>"
      ]
     },
     "metadata": {
      "needs_background": "light"
     },
     "output_type": "display_data"
    }
   ],
   "source": [
    "plt.plot(history.history['mean_absolute_error'])\n",
    "plt.plot(history.history['val_mean_absolute_error'])\n",
    "plt.title('model mse')\n",
    "plt.ylabel('mean_absolute_error')\n",
    "plt.xlabel('epoch')\n",
    "plt.legend(['train','test'])\n",
    "plt.show()"
   ]
  },
  {
   "cell_type": "code",
   "execution_count": 19,
   "metadata": {},
   "outputs": [
    {
     "name": "stderr",
     "output_type": "stream",
     "text": [
      "C:\\Users\\Acer\\.conda\\envs\\tensorflow\\lib\\site-packages\\ipykernel_launcher.py:2: UserWarning: Update your `Dense` call to the Keras 2 API: `Dense(input_dim=1, units=9, kernel_initializer=\"uniform\")`\n",
      "  \n",
      "C:\\Users\\Acer\\.conda\\envs\\tensorflow\\lib\\site-packages\\ipykernel_launcher.py:3: UserWarning: Update your `Dense` call to the Keras 2 API: `Dense(units=9, kernel_initializer=\"uniform\")`\n",
      "  This is separate from the ipykernel package so we can avoid doing imports until\n",
      "C:\\Users\\Acer\\.conda\\envs\\tensorflow\\lib\\site-packages\\ipykernel_launcher.py:6: UserWarning: The `nb_epoch` argument in `fit` has been renamed `epochs`.\n",
      "  \n"
     ]
    },
    {
     "name": "stdout",
     "output_type": "stream",
     "text": [
      "Train on 2846 samples, validate on 1220 samples\n",
      "Epoch 1/100\n",
      "2846/2846 [==============================] - 1s 283us/step - loss: 5805.2636 - mse: 5805.2666 - val_loss: 3875.8472 - val_mse: 3875.8467\n",
      "Epoch 2/100\n",
      "2846/2846 [==============================] - 1s 213us/step - loss: 1391.8317 - mse: 1391.8315 - val_loss: 52.7629 - val_mse: 52.7629\n",
      "Epoch 3/100\n",
      "2846/2846 [==============================] - 1s 205us/step - loss: 6.2232 - mse: 6.2232 - val_loss: 0.0792 - val_mse: 0.0792\n",
      "Epoch 4/100\n",
      "2846/2846 [==============================] - 1s 196us/step - loss: 0.0739 - mse: 0.0739 - val_loss: 0.0801 - val_mse: 0.0801\n",
      "Epoch 5/100\n",
      "2846/2846 [==============================] - 1s 196us/step - loss: 0.0739 - mse: 0.0739 - val_loss: 0.0796 - val_mse: 0.0796\n",
      "Epoch 6/100\n",
      "2846/2846 [==============================] - 1s 196us/step - loss: 0.0739 - mse: 0.0739 - val_loss: 0.0799 - val_mse: 0.0799\n",
      "Epoch 7/100\n",
      "2846/2846 [==============================] - 1s 196us/step - loss: 0.0739 - mse: 0.0739 - val_loss: 0.0791 - val_mse: 0.0791\n",
      "Epoch 8/100\n",
      "2846/2846 [==============================] - 1s 197us/step - loss: 0.0739 - mse: 0.0739 - val_loss: 0.0791 - val_mse: 0.0791\n",
      "Epoch 9/100\n",
      "2846/2846 [==============================] - 1s 196us/step - loss: 0.0742 - mse: 0.0742 - val_loss: 0.0799 - val_mse: 0.0799\n",
      "Epoch 10/100\n",
      "2846/2846 [==============================] - 1s 202us/step - loss: 0.0740 - mse: 0.0740 - val_loss: 0.0808 - val_mse: 0.0808\n",
      "Epoch 11/100\n",
      "2846/2846 [==============================] - 1s 199us/step - loss: 0.0742 - mse: 0.0742 - val_loss: 0.0827 - val_mse: 0.0827\n",
      "Epoch 12/100\n",
      "2846/2846 [==============================] - 1s 197us/step - loss: 0.0744 - mse: 0.0744 - val_loss: 0.0799 - val_mse: 0.0799\n",
      "Epoch 13/100\n",
      "2846/2846 [==============================] - 1s 197us/step - loss: 0.0744 - mse: 0.0744 - val_loss: 0.0802 - val_mse: 0.0802\n",
      "Epoch 14/100\n",
      "2846/2846 [==============================] - 1s 196us/step - loss: 0.0744 - mse: 0.0744 - val_loss: 0.0796 - val_mse: 0.0796\n",
      "Epoch 15/100\n",
      "2846/2846 [==============================] - 1s 196us/step - loss: 0.0750 - mse: 0.0750 - val_loss: 0.0790 - val_mse: 0.0790\n",
      "Epoch 16/100\n",
      "2846/2846 [==============================] - 1s 195us/step - loss: 0.0749 - mse: 0.0749 - val_loss: 0.0797 - val_mse: 0.0797\n",
      "Epoch 17/100\n",
      "2846/2846 [==============================] - 1s 195us/step - loss: 0.0756 - mse: 0.0756 - val_loss: 0.0790 - val_mse: 0.0790\n",
      "Epoch 18/100\n",
      "2846/2846 [==============================] - 1s 196us/step - loss: 0.0753 - mse: 0.0753 - val_loss: 0.0815 - val_mse: 0.0815\n",
      "Epoch 19/100\n",
      "2846/2846 [==============================] - 1s 203us/step - loss: 0.0765 - mse: 0.0765 - val_loss: 0.0792 - val_mse: 0.0792\n",
      "Epoch 20/100\n",
      "2846/2846 [==============================] - 1s 198us/step - loss: 0.0752 - mse: 0.0752 - val_loss: 0.0813 - val_mse: 0.0813\n",
      "Epoch 21/100\n",
      "2846/2846 [==============================] - 1s 198us/step - loss: 0.0775 - mse: 0.0775 - val_loss: 0.0835 - val_mse: 0.0835\n",
      "Epoch 22/100\n",
      "2846/2846 [==============================] - 1s 196us/step - loss: 0.0774 - mse: 0.0774 - val_loss: 0.0856 - val_mse: 0.0856\n",
      "Epoch 23/100\n",
      "2846/2846 [==============================] - 1s 193us/step - loss: 0.0771 - mse: 0.0771 - val_loss: 0.0810 - val_mse: 0.0810\n",
      "Epoch 24/100\n",
      "2846/2846 [==============================] - 1s 198us/step - loss: 0.0784 - mse: 0.0784 - val_loss: 0.0846 - val_mse: 0.0846\n",
      "Epoch 25/100\n",
      "2846/2846 [==============================] - 1s 197us/step - loss: 0.0763 - mse: 0.0763 - val_loss: 0.0885 - val_mse: 0.0885\n",
      "Epoch 26/100\n",
      "2846/2846 [==============================] - 1s 198us/step - loss: 0.0793 - mse: 0.0793 - val_loss: 0.0801 - val_mse: 0.0801\n",
      "Epoch 27/100\n",
      "2846/2846 [==============================] - 1s 197us/step - loss: 0.0792 - mse: 0.0792 - val_loss: 0.0808 - val_mse: 0.0808\n",
      "Epoch 28/100\n",
      "2846/2846 [==============================] - 1s 203us/step - loss: 0.0793 - mse: 0.0793 - val_loss: 0.1080 - val_mse: 0.1080\n",
      "Epoch 29/100\n",
      "2846/2846 [==============================] - 1s 210us/step - loss: 0.0814 - mse: 0.0814 - val_loss: 0.0797 - val_mse: 0.0797\n",
      "Epoch 30/100\n",
      "2846/2846 [==============================] - 1s 209us/step - loss: 0.0822 - mse: 0.0822 - val_loss: 0.0900 - val_mse: 0.0900\n",
      "Epoch 31/100\n",
      "2846/2846 [==============================] - 1s 204us/step - loss: 0.0835 - mse: 0.0835 - val_loss: 0.0914 - val_mse: 0.0914\n",
      "Epoch 32/100\n",
      "2846/2846 [==============================] - 1s 194us/step - loss: 0.0848 - mse: 0.0848 - val_loss: 0.0799 - val_mse: 0.0799\n",
      "Epoch 33/100\n",
      "2846/2846 [==============================] - 1s 196us/step - loss: 0.0815 - mse: 0.0815 - val_loss: 0.0847 - val_mse: 0.0847\n",
      "Epoch 34/100\n",
      "2846/2846 [==============================] - 1s 197us/step - loss: 0.0871 - mse: 0.0871 - val_loss: 0.1059 - val_mse: 0.1059\n",
      "Epoch 35/100\n",
      "2846/2846 [==============================] - 1s 197us/step - loss: 0.0865 - mse: 0.0865 - val_loss: 0.1133 - val_mse: 0.1133\n",
      "Epoch 36/100\n",
      "2846/2846 [==============================] - 1s 204us/step - loss: 0.0820 - mse: 0.0820 - val_loss: 0.1179 - val_mse: 0.1179\n",
      "Epoch 37/100\n",
      "2846/2846 [==============================] - 1s 187us/step - loss: 0.0854 - mse: 0.0854 - val_loss: 0.0817 - val_mse: 0.0817\n",
      "Epoch 38/100\n",
      "2846/2846 [==============================] - 1s 199us/step - loss: 0.0836 - mse: 0.0836 - val_loss: 0.0792 - val_mse: 0.0792\n",
      "Epoch 39/100\n",
      "2846/2846 [==============================] - 1s 197us/step - loss: 0.0811 - mse: 0.0811 - val_loss: 0.1010 - val_mse: 0.1010\n",
      "Epoch 40/100\n",
      "2846/2846 [==============================] - 1s 198us/step - loss: 0.0866 - mse: 0.0866 - val_loss: 0.1155 - val_mse: 0.1155\n",
      "Epoch 41/100\n",
      "2846/2846 [==============================] - 1s 197us/step - loss: 0.0884 - mse: 0.0884 - val_loss: 0.0860 - val_mse: 0.0860\n",
      "Epoch 42/100\n",
      "2846/2846 [==============================] - 1s 196us/step - loss: 0.0861 - mse: 0.0861 - val_loss: 0.1056 - val_mse: 0.1056\n",
      "Epoch 43/100\n",
      "2846/2846 [==============================] - 1s 196us/step - loss: 0.0922 - mse: 0.0922 - val_loss: 0.0864 - val_mse: 0.0864\n",
      "Epoch 44/100\n",
      "2846/2846 [==============================] - 1s 196us/step - loss: 0.0851 - mse: 0.0851 - val_loss: 0.1172 - val_mse: 0.1172\n",
      "Epoch 45/100\n",
      "2846/2846 [==============================] - 1s 193us/step - loss: 0.0825 - mse: 0.0825 - val_loss: 0.0820 - val_mse: 0.0820\n",
      "Epoch 46/100\n",
      "2846/2846 [==============================] - 1s 199us/step - loss: 0.0921 - mse: 0.0921 - val_loss: 0.0858 - val_mse: 0.0858\n",
      "Epoch 47/100\n",
      "2846/2846 [==============================] - 1s 201us/step - loss: 0.0829 - mse: 0.0829 - val_loss: 0.0957 - val_mse: 0.0957\n",
      "Epoch 48/100\n",
      "2846/2846 [==============================] - 1s 198us/step - loss: 0.0861 - mse: 0.0861 - val_loss: 0.0827 - val_mse: 0.0827\n",
      "Epoch 49/100\n",
      "2846/2846 [==============================] - 1s 196us/step - loss: 0.0842 - mse: 0.0842 - val_loss: 0.0936 - val_mse: 0.0936\n",
      "Epoch 50/100\n",
      "2846/2846 [==============================] - 1s 193us/step - loss: 0.0872 - mse: 0.0872 - val_loss: 0.0813 - val_mse: 0.0813\n",
      "Epoch 51/100\n",
      "2846/2846 [==============================] - 1s 197us/step - loss: 0.0889 - mse: 0.0889 - val_loss: 0.0914 - val_mse: 0.0914\n",
      "Epoch 52/100\n",
      "2846/2846 [==============================] - 1s 195us/step - loss: 0.0837 - mse: 0.0837 - val_loss: 0.0808 - val_mse: 0.0808\n",
      "Epoch 53/100\n",
      "2846/2846 [==============================] - 1s 198us/step - loss: 0.0864 - mse: 0.0864 - val_loss: 0.0985 - val_mse: 0.0985\n",
      "Epoch 54/100\n",
      "2846/2846 [==============================] - 1s 193us/step - loss: 0.0856 - mse: 0.0856 - val_loss: 0.0888 - val_mse: 0.0888\n",
      "Epoch 55/100\n",
      "2846/2846 [==============================] - 1s 203us/step - loss: 0.0867 - mse: 0.0867 - val_loss: 0.0999 - val_mse: 0.0999\n",
      "Epoch 56/100\n",
      "2846/2846 [==============================] - 1s 203us/step - loss: 0.0881 - mse: 0.0881 - val_loss: 0.1026 - val_mse: 0.1026\n",
      "Epoch 57/100\n",
      "2846/2846 [==============================] - 1s 205us/step - loss: 0.0874 - mse: 0.0874 - val_loss: 0.1113 - val_mse: 0.1113\n",
      "Epoch 58/100\n",
      "2846/2846 [==============================] - 1s 207us/step - loss: 0.0819 - mse: 0.0819 - val_loss: 0.0989 - val_mse: 0.0989\n",
      "Epoch 59/100\n",
      "2846/2846 [==============================] - 1s 222us/step - loss: 0.0870 - mse: 0.0870 - val_loss: 0.0966 - val_mse: 0.0966\n"
     ]
    },
    {
     "name": "stdout",
     "output_type": "stream",
     "text": [
      "Epoch 60/100\n",
      "2846/2846 [==============================] - 1s 198us/step - loss: 0.0854 - mse: 0.0854 - val_loss: 0.1238 - val_mse: 0.1238\n",
      "Epoch 61/100\n",
      "2846/2846 [==============================] - 1s 193us/step - loss: 0.0909 - mse: 0.0909 - val_loss: 0.0890 - val_mse: 0.0890\n",
      "Epoch 62/100\n",
      "2846/2846 [==============================] - 1s 194us/step - loss: 0.0835 - mse: 0.0835 - val_loss: 0.0905 - val_mse: 0.0905\n",
      "Epoch 63/100\n",
      "2846/2846 [==============================] - 1s 202us/step - loss: 0.0886 - mse: 0.0886 - val_loss: 0.1140 - val_mse: 0.1140\n",
      "Epoch 64/100\n",
      "2846/2846 [==============================] - 1s 197us/step - loss: 0.0883 - mse: 0.0883 - val_loss: 0.0916 - val_mse: 0.0916\n",
      "Epoch 65/100\n",
      "2846/2846 [==============================] - 1s 214us/step - loss: 0.0938 - mse: 0.0938 - val_loss: 0.0898 - val_mse: 0.0898\n",
      "Epoch 66/100\n",
      "2846/2846 [==============================] - 1s 197us/step - loss: 0.0883 - mse: 0.0883 - val_loss: 0.0791 - val_mse: 0.0791\n",
      "Epoch 67/100\n",
      "2846/2846 [==============================] - 1s 197us/step - loss: 0.0851 - mse: 0.0851 - val_loss: 0.1137 - val_mse: 0.1137\n",
      "Epoch 68/100\n",
      "2846/2846 [==============================] - 1s 199us/step - loss: 0.0870 - mse: 0.0870 - val_loss: 0.0935 - val_mse: 0.0935\n",
      "Epoch 69/100\n",
      "2846/2846 [==============================] - 1s 197us/step - loss: 0.0820 - mse: 0.0820 - val_loss: 0.0886 - val_mse: 0.0886\n",
      "Epoch 70/100\n",
      "2846/2846 [==============================] - 1s 194us/step - loss: 0.0866 - mse: 0.0866 - val_loss: 0.0962 - val_mse: 0.0962\n",
      "Epoch 71/100\n",
      "2846/2846 [==============================] - 1s 193us/step - loss: 0.0859 - mse: 0.0859 - val_loss: 0.0850 - val_mse: 0.0850\n",
      "Epoch 72/100\n",
      "2846/2846 [==============================] - 1s 198us/step - loss: 0.0865 - mse: 0.0865 - val_loss: 0.0903 - val_mse: 0.0903\n",
      "Epoch 73/100\n",
      "2846/2846 [==============================] - 1s 191us/step - loss: 0.0856 - mse: 0.0856 - val_loss: 0.0827 - val_mse: 0.0827\n",
      "Epoch 74/100\n",
      "2846/2846 [==============================] - 1s 198us/step - loss: 0.0878 - mse: 0.0878 - val_loss: 0.1041 - val_mse: 0.1041\n",
      "Epoch 75/100\n",
      "2846/2846 [==============================] - 1s 196us/step - loss: 0.0829 - mse: 0.0829 - val_loss: 0.0936 - val_mse: 0.0936\n",
      "Epoch 76/100\n",
      "2846/2846 [==============================] - 1s 189us/step - loss: 0.0858 - mse: 0.0858 - val_loss: 0.0873 - val_mse: 0.0873\n",
      "Epoch 77/100\n",
      "2846/2846 [==============================] - 1s 198us/step - loss: 0.0823 - mse: 0.0823 - val_loss: 0.0859 - val_mse: 0.0859\n",
      "Epoch 78/100\n",
      "2846/2846 [==============================] - 1s 198us/step - loss: 0.0925 - mse: 0.0925 - val_loss: 0.0967 - val_mse: 0.0967\n",
      "Epoch 79/100\n",
      "2846/2846 [==============================] - 1s 198us/step - loss: 0.0887 - mse: 0.0887 - val_loss: 0.1114 - val_mse: 0.1114\n",
      "Epoch 80/100\n",
      "2846/2846 [==============================] - 1s 188us/step - loss: 0.0965 - mse: 0.0965 - val_loss: 0.1078 - val_mse: 0.1078\n",
      "Epoch 81/100\n",
      "2846/2846 [==============================] - 1s 202us/step - loss: 0.0868 - mse: 0.0868 - val_loss: 0.0820 - val_mse: 0.0820\n",
      "Epoch 82/100\n",
      "2846/2846 [==============================] - 1s 198us/step - loss: 0.0834 - mse: 0.0834 - val_loss: 0.0843 - val_mse: 0.0843\n",
      "Epoch 83/100\n",
      "2846/2846 [==============================] - 1s 195us/step - loss: 0.0841 - mse: 0.0841 - val_loss: 0.0791 - val_mse: 0.0791\n",
      "Epoch 84/100\n",
      "2846/2846 [==============================] - 1s 198us/step - loss: 0.0830 - mse: 0.0830 - val_loss: 0.0959 - val_mse: 0.0959\n",
      "Epoch 85/100\n",
      "2846/2846 [==============================] - 1s 201us/step - loss: 0.0895 - mse: 0.0895 - val_loss: 0.1126 - val_mse: 0.1126\n",
      "Epoch 86/100\n",
      "2846/2846 [==============================] - 1s 205us/step - loss: 0.0847 - mse: 0.0847 - val_loss: 0.0933 - val_mse: 0.0933\n",
      "Epoch 87/100\n",
      "2846/2846 [==============================] - 1s 204us/step - loss: 0.0870 - mse: 0.0870 - val_loss: 0.0858 - val_mse: 0.0858\n",
      "Epoch 88/100\n",
      "2846/2846 [==============================] - 1s 195us/step - loss: 0.0882 - mse: 0.0882 - val_loss: 0.1061 - val_mse: 0.1061\n",
      "Epoch 89/100\n",
      "2846/2846 [==============================] - 1s 194us/step - loss: 0.0876 - mse: 0.0876 - val_loss: 0.0816 - val_mse: 0.0816\n",
      "Epoch 90/100\n",
      "2846/2846 [==============================] - 1s 192us/step - loss: 0.0848 - mse: 0.0848 - val_loss: 0.0876 - val_mse: 0.0876\n",
      "Epoch 91/100\n",
      "2846/2846 [==============================] - 1s 199us/step - loss: 0.0854 - mse: 0.0854 - val_loss: 0.0819 - val_mse: 0.0819\n",
      "Epoch 92/100\n",
      "2846/2846 [==============================] - 1s 202us/step - loss: 0.1108 - mse: 0.1108 - val_loss: 0.0822 - val_mse: 0.0822\n",
      "Epoch 93/100\n",
      "2846/2846 [==============================] - 1s 197us/step - loss: 0.0872 - mse: 0.0872 - val_loss: 0.0845 - val_mse: 0.0845\n",
      "Epoch 94/100\n",
      "2846/2846 [==============================] - 1s 197us/step - loss: 0.0850 - mse: 0.0850 - val_loss: 0.0835 - val_mse: 0.0835\n",
      "Epoch 95/100\n",
      "2846/2846 [==============================] - 1s 199us/step - loss: 0.0832 - mse: 0.0832 - val_loss: 0.0871 - val_mse: 0.0871\n",
      "Epoch 96/100\n",
      "2846/2846 [==============================] - 1s 196us/step - loss: 0.0862 - mse: 0.0862 - val_loss: 0.0881 - val_mse: 0.0881\n",
      "Epoch 97/100\n",
      "2846/2846 [==============================] - 1s 196us/step - loss: 0.0898 - mse: 0.0898 - val_loss: 0.0889 - val_mse: 0.0889\n",
      "Epoch 98/100\n",
      "2846/2846 [==============================] - 1s 202us/step - loss: 0.0818 - mse: 0.0818 - val_loss: 0.1032 - val_mse: 0.1032\n",
      "Epoch 99/100\n",
      "2846/2846 [==============================] - 1s 195us/step - loss: 0.0847 - mse: 0.0847 - val_loss: 0.0887 - val_mse: 0.0887\n",
      "Epoch 100/100\n",
      "2846/2846 [==============================] - 1s 200us/step - loss: 0.0862 - mse: 0.0862 - val_loss: 0.1059 - val_mse: 0.1059\n"
     ]
    }
   ],
   "source": [
    "classifier = Sequential()\n",
    "classifier.add(Dense(output_dim = 9, init = 'uniform',  input_dim = 1))\n",
    "classifier.add(Dense(output_dim = 9, init = 'uniform'))\n",
    "classifier.add(Dense(1))\n",
    "classifier.compile(loss='mean_squared_error', optimizer='adam', metrics=['mse'])\n",
    "history=classifier.fit(X_train, y_train,validation_data =[X_test,y_test], batch_size = 10, nb_epoch = 100)\n",
    "classifier.save('stock_prediction4.h5')"
   ]
  },
  {
   "cell_type": "code",
   "execution_count": 20,
   "metadata": {},
   "outputs": [
    {
     "name": "stdout",
     "output_type": "stream",
     "text": [
      "1220/1220 [==============================] - 0s 25us/step\n"
     ]
    },
    {
     "data": {
      "text/plain": [
       "0.10588877648115158"
      ]
     },
     "execution_count": 20,
     "metadata": {},
     "output_type": "execute_result"
    }
   ],
   "source": [
    "MAE,mse = classifier.evaluate(X_test,y_test)\n",
    "mse"
   ]
  },
  {
   "cell_type": "code",
   "execution_count": 21,
   "metadata": {},
   "outputs": [
    {
     "data": {
      "image/png": "[encoded data removed]",
      "text/plain": [
       "<Figure size 432x288 with 1 Axes>"
      ]
     },
     "metadata": {
      "needs_background": "light"
     },
     "output_type": "display_data"
    }
   ],
   "source": [
    "plt.plot(history.history['mse'])\n",
    "plt.plot(history.history['val_loss'])\n",
    "plt.title('model mse')\n",
    "plt.ylabel('mean_squared_error')\n",
    "plt.xlabel('epoch')\n",
    "plt.legend(['train','test'])\n",
    "plt.show()"
   ]
  },
  {
   "cell_type": "code",
   "execution_count": 107,
   "metadata": {},
   "outputs": [
    {
     "name": "stdout",
     "output_type": "stream",
     "text": [
      "Train Index:  [1102 1103 1104 ... 7710 7711 7712] \n",
      "\n",
      "Test Index:  [   0    1    2 ... 1099 1100 1101]\n",
      "Epoch 1/1\n",
      "6611/6611 [==============================] - 0s 74us/step - loss: 3971.4644 - mean_absolute_error: 3971.4614 - mse: 125904248.0000\n",
      "1102/1102 [==============================] - 0s 26us/step\n",
      "[[223.2855461106759, 223.2855682373047, 50045.81640625]]\n",
      "Train Index:  [   0    1    2 ... 7710 7711 7712] \n",
      "\n",
      "Test Index:  [1102 1103 1104 ... 2201 2202 2203]\n",
      "Epoch 1/1\n",
      "6611/6611 [==============================] - 0s 52us/step - loss: 615.5781 - mean_absolute_error: 615.5779 - mse: 1138795.1250\n",
      "1102/1102 [==============================] - 0s 29us/step\n",
      "[[223.2855461106759, 223.2855682373047, 50045.81640625], [352.232067405853, 352.23211669921875, 153248.96875]]\n",
      "Train Index:  [   0    1    2 ... 7710 7711 7712] \n",
      "\n",
      "Test Index:  [2204 2205 2206 ... 3303 3304 3305]\n",
      "Epoch 1/1\n",
      "6611/6611 [==============================] - 0s 51us/step - loss: 668.7360 - mean_absolute_error: 668.7359 - mse: 1542722.0000\n",
      "1102/1102 [==============================] - 0s 27us/step\n",
      "[[223.2855461106759, 223.2855682373047, 50045.81640625], [352.232067405853, 352.23211669921875, 153248.96875], [303.8979954935894, 303.8980407714844, 102263.3515625]]\n",
      "Train Index:  [   0    1    2 ... 7710 7711 7712] \n",
      "\n",
      "Test Index:  [3306 3307 3308 ... 4405 4406 4407]\n",
      "Epoch 1/1\n",
      "6611/6611 [==============================] - 0s 51us/step - loss: 629.4912 - mean_absolute_error: 629.4910 - mse: 1526067.6250\n",
      "1102/1102 [==============================] - 0s 27us/step\n",
      "[[223.2855461106759, 223.2855682373047, 50045.81640625], [352.232067405853, 352.23211669921875, 153248.96875], [303.8979954935894, 303.8980407714844, 102263.3515625], [326.1897512113983, 326.18975830078125, 119041.1015625]]\n",
      "Train Index:  [   0    1    2 ... 7710 7711 7712] \n",
      "\n",
      "Test Index:  [4408 4409 4410 ... 5507 5508 5509]\n",
      "Epoch 1/1\n",
      "6611/6611 [==============================] - 0s 50us/step - loss: 563.2805 - mean_absolute_error: 563.2805 - mse: 1522069.2500\n",
      "1102/1102 [==============================] - 0s 29us/step\n",
      "[[223.2855461106759, 223.2855682373047, 50045.81640625], [352.232067405853, 352.23211669921875, 153248.96875], [303.8979954935894, 303.8980407714844, 102263.3515625], [326.1897512113983, 326.18975830078125, 119041.1015625], [1261.5070437450374, 1261.507080078125, 1685222.0]]\n",
      "Train Index:  [   0    1    2 ... 7710 7711 7712] \n",
      "\n",
      "Test Index:  [5510 5511 5512 ... 6609 6610 6611]\n",
      "Epoch 1/1\n",
      "6611/6611 [==============================] - 0s 50us/step - loss: 380.6928 - mean_absolute_error: 380.6928 - mse: 650105.6875\n",
      "1102/1102 [==============================] - 0s 25us/step\n",
      "[[223.2855461106759, 223.2855682373047, 50045.81640625], [352.232067405853, 352.23211669921875, 153248.96875], [303.8979954935894, 303.8980407714844, 102263.3515625], [326.1897512113983, 326.18975830078125, 119041.1015625], [1261.5070437450374, 1261.507080078125, 1685222.0], [168.71415660601994, 168.7141571044922, 33889.8671875]]\n",
      "Train Index:  [   0    1    2 ... 6609 6610 6611] \n",
      "\n",
      "Test Index:  [6612 6613 6614 ... 7710 7711 7712]\n",
      "Epoch 1/1\n",
      "6612/6612 [==============================] - 0s 49us/step - loss: 218.7660 - mean_absolute_error: 218.7661 - mse: 207314.4531\n",
      "1101/1101 [==============================] - 0s 27us/step\n",
      "[[223.2855461106759, 223.2855682373047, 50045.81640625], [352.232067405853, 352.23211669921875, 153248.96875], [303.8979954935894, 303.8980407714844, 102263.3515625], [326.1897512113983, 326.18975830078125, 119041.1015625], [1261.5070437450374, 1261.507080078125, 1685222.0], [168.71415660601994, 168.7141571044922, 33889.8671875], [809.9979797973078, 809.998046875, 670389.9375]]\n"
     ]
    }
   ],
   "source": [
    "kf = KFold(n_splits=7)\n",
    "\n",
    "def get_score(model, X_train, X_test, y_train, y_test):\n",
    "        model.fit(X_train, y_train)\n",
    "        return model.evaluate(X_test, y_test)\n",
    "\n",
    "scores_SVM=[]\n",
    "\n",
    "for train_index,test_index in kf.split(X,y):\n",
    "    print(\"Train Index: \", train_index, \"\\n\")\n",
    "    print(\"Test Index: \", test_index)\n",
    "\n",
    "    X_train, X_test = X[train_index], X[test_index]\n",
    "    y_train, y_test = y[train_index], y[test_index]\n",
    "\n",
    "    scores_SVM.append(get_score(classifier, X_train, X_test, y_train, y_test))\n",
    "    print(scores_SVM)\n"
   ]
  },
  {
   "cell_type": "code",
   "execution_count": null,
   "metadata": {},
   "outputs": [],
   "source": []
  },
  {
   "cell_type": "code",
   "execution_count": null,
   "metadata": {},
   "outputs": [],
   "source": []
  },
  {
   "cell_type": "code",
   "execution_count": null,
   "metadata": {},
   "outputs": [],
   "source": []
  },
  {
   "cell_type": "code",
   "execution_count": null,
   "metadata": {},
   "outputs": [],
   "source": []
  },
  {
   "cell_type": "code",
   "execution_count": null,
   "metadata": {},
   "outputs": [],
   "source": []
  },
  {
   "cell_type": "code",
   "execution_count": null,
   "metadata": {},
   "outputs": [],
   "source": []
  },
  {
   "cell_type": "code",
   "execution_count": null,
   "metadata": {},
   "outputs": [],
   "source": []
  },
  {
   "cell_type": "code",
   "execution_count": null,
   "metadata": {},
   "outputs": [],
   "source": [
    "\n"
   ]
  },
  {
   "cell_type": "code",
   "execution_count": null,
   "metadata": {},
   "outputs": [],
   "source": []
  },
  {
   "cell_type": "code",
   "execution_count": null,
   "metadata": {},
   "outputs": [],
   "source": []
  },
  {
   "cell_type": "code",
   "execution_count": null,
   "metadata": {},
   "outputs": [],
   "source": []
  },
  {
   "cell_type": "code",
   "execution_count": null,
   "metadata": {},
   "outputs": [],
   "source": []
  },
  {
   "cell_type": "code",
   "execution_count": null,
   "metadata": {},
   "outputs": [],
   "source": []
  },
  {
   "cell_type": "code",
   "execution_count": null,
   "metadata": {},
   "outputs": [],
   "source": []
  },
  {
   "cell_type": "code",
   "execution_count": null,
   "metadata": {},
   "outputs": [],
   "source": []
  },
  {
   "cell_type": "code",
   "execution_count": null,
   "metadata": {},
   "outputs": [],
   "source": []
  },
  {
   "cell_type": "code",
   "execution_count": null,
   "metadata": {},
   "outputs": [],
   "source": []
  }
 ],
 "metadata": {
  "kernelspec": {
   "display_name": "Python 3",
   "language": "python",
   "name": "python3"
  },
  "language_info": {
   "codemirror_mode": {
    "name": "ipython",
    "version": 3
   },
   "file_extension": ".py",
   "mimetype": "text/x-python",
   "name": "python",
   "nbconvert_exporter": "python",
   "pygments_lexer": "ipython3",
   "version": "3.7.6"
  }
 },
 "nbformat": 4,
 "nbformat_minor": 4
}
